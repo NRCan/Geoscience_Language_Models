{
 "cells": [
  {
   "cell_type": "markdown",
   "metadata": {},
   "source": [
    "# TOP British Columbia Geology Papers\n",
    "We will download the following paper repositories\n",
    "* GeoFile http://cmscontent.nrs.gov.bc.ca/geoscience/PublicationCatalogue/GeoFile/\n",
    "* GeologyExplorationMining http://cmscontent.nrs.gov.bc.ca/geoscience/PublicationCatalogue/GeologyExplorationMining/\n",
    "* GeoscienceBC http://cmscontent.nrs.gov.bc.ca/geoscience/PublicationCatalogue/GeoscienceBC/\n",
    "* Paper http://cmscontent.nrs.gov.bc.ca/geoscience/PublicationCatalogue/Paper/\n",
    "* Petrolium Geoscience Publications http://cmscontent.nrs.gov.bc.ca/geoscience/PublicationCatalogue/PetroleumGeosciencePublications/\n",
    "\n"
   ]
  },
  {
   "cell_type": "markdown",
   "metadata": {},
   "source": [
    "# Status:\n",
    "* GeoFile (Done)\n",
    "* GeologyExplorationMining Done)\n",
    "* GeoscienceBC (Done)\n",
    "* Paper (Done)\n",
    "* Petrolium Geoscience Publications (Done)"
   ]
  },
  {
   "cell_type": "code",
   "execution_count": null,
   "metadata": {},
   "outputs": [],
   "source": [
    "import pandas as pd\n",
    "import numpy as np\n",
    "from os import listdir,environ,rename \n",
    "from sys import argv\n",
    "from os.path import isfile,join,basename\n",
    "from shutil import rmtree,move\n",
    "import glob\n",
    "from bs4 import BeautifulSoup\n",
    "import os\n",
    "from zipfile import ZipFile\n",
    "import requests\n",
    "from requests_html import HTMLSession,AsyncHTMLSession\n",
    "import json"
   ]
  },
  {
   "cell_type": "code",
   "execution_count": 4,
   "metadata": {},
   "outputs": [],
   "source": [
    "root_dir = \"/nrcan_p2\"\n",
    "data_dir = join(root_dir,\"data\")\n",
    "bc_root_dir=join(data_dir,\"01_raw\",\"20210108\",\"bc\")\n",
    "geofile_dir=join(bc_root_dir,\"geofile\")\n",
    "geology_exploration_mining_dir=join(bc_root_dir,\"geology_exploration_mining\")\n",
    "geoscience_bc_dir=join(bc_root_dir,\"geoscience_bc\")\n",
    "paper_dir=join(bc_root_dir,\"paper\")\n",
    "petrolium_geoscience_publications_dir=join(bc_root_dir,\"petrolium_geoscience_publications\")"
   ]
  },
  {
   "cell_type": "code",
   "execution_count": 6,
   "metadata": {},
   "outputs": [],
   "source": [
    "MAKE_DIRS=False\n",
    "GET_LINKS=False\n",
    "DOWNLOAD = False\n",
    "if MAKE_DIRS:\n",
    "    os.makedirs(geofile_dir)\n",
    "    os.mkdir(geology_exploration_mining_dir)\n",
    "    os.mkdir(geoscience_bc_dir)\n",
    "    os.mkdir(paper_dir)\n",
    "    os.mkdir(petrolium_geoscience_publications_dir)"
   ]
  },
  {
   "cell_type": "code",
   "execution_count": 51,
   "metadata": {},
   "outputs": [],
   "source": [
    "def get_parsed_content(url):\n",
    "    html_content = requests.get(url, verify=False).text\n",
    "    soup = BeautifulSoup(html_content, \"html.parser\")\n",
    "    return soup\n",
    "\n",
    "def download_articles(article_links,http_root,destination_dir,max_length=100):\n",
    "    for article_link in article_links:\n",
    "        r = requests.get(article_link,stream=True, verify=False)\n",
    "        chunk_size=10000000\n",
    "        article_name = article_link.replace(http_root,\"\").replace(\"/\",\"_\")\n",
    "        article_name = article_name[-1*max_length:]\n",
    "        with open (join(destination_dir,article_name),\"wb\") as f:\n",
    "            for chunk in r.iter_content(chunk_size):\n",
    "                f.write(chunk)\n",
    "\n",
    "def download_all_pdf(http_root,link_root,destination_dir):\n",
    "    content=get_parsed_content(f'{http_root}{link_root}')\n",
    "    article_links= []\n",
    "    for link in content.find_all('a', href=True):\n",
    "        if (href := link['href']).startswith(f'{link_root}') and \".pdf\" in href:\n",
    "            article_links.append(f'{http_root}{href}')\n",
    "    \n",
    "    download_articles(article_links,f'{http_root}{link_root}',destination_dir)\n",
    "    \n",
    "def get_files_count(directory,print_caption=None):\n",
    "    nb_files = len([name for name in os.listdir(directory) if os.path.isfile(directory +\"/\"+name)])\n",
    "    if print_caption:\n",
    "        print (f'{print_caption}: {nb_files}')\n",
    "    return nb_files"
   ]
  },
  {
   "cell_type": "code",
   "execution_count": 23,
   "metadata": {
    "scrolled": true
   },
   "outputs": [],
   "source": [
    "download_all_pdf(\"http://cmscontent.nrs.gov.bc.ca\",\"/geoscience/PublicationCatalogue/GeoFile/\",geofile_dir)"
   ]
  },
  {
   "cell_type": "code",
   "execution_count": 24,
   "metadata": {},
   "outputs": [],
   "source": [
    "download_all_pdf(\"http://cmscontent.nrs.gov.bc.ca\",\"/geoscience/PublicationCatalogue/GeologyExplorationMining/\",geology_exploration_mining_dir)"
   ]
  },
  {
   "cell_type": "code",
   "execution_count": 25,
   "metadata": {},
   "outputs": [],
   "source": [
    "download_all_pdf(\"http://cmscontent.nrs.gov.bc.ca\",\"/geoscience/PublicationCatalogue/GeoscienceBC/\",geoscience_bc_dir)"
   ]
  },
  {
   "cell_type": "code",
   "execution_count": 26,
   "metadata": {},
   "outputs": [],
   "source": [
    "download_all_pdf(\"http://cmscontent.nrs.gov.bc.ca\",\"/geoscience/PublicationCatalogue/Paper/\",paper_dir)"
   ]
  },
  {
   "cell_type": "code",
   "execution_count": 27,
   "metadata": {},
   "outputs": [],
   "source": [
    "download_all_pdf(\"http://cmscontent.nrs.gov.bc.ca\",\"/geoscience/PublicationCatalogue/PetroleumGeosciencePublications/\",petrolium_geoscience_publications_dir)"
   ]
  },
  {
   "cell_type": "code",
   "execution_count": 55,
   "metadata": {},
   "outputs": [
    {
     "name": "stdout",
     "output_type": "stream",
     "text": [
      "/nrcan_p2/data/01_raw/20210108/bc/geofile: 218\n",
      "/nrcan_p2/data/01_raw/20210108/bc/geology_exploration_mining: 164\n",
      "/nrcan_p2/data/01_raw/20210108/bc/geoscience_bc: 51\n",
      "/nrcan_p2/data/01_raw/20210108/bc/paper: 1622\n",
      "/nrcan_p2/data/01_raw/20210108/bc/petrolium_geoscience_publications: 218\n",
      "Total: 2273\n"
     ]
    }
   ],
   "source": [
    "total_files = 0\n",
    "for directory in [geofile_dir,geology_exploration_mining_dir,geoscience_bc_dir,paper_dir,petrolium_geoscience_publications_dir]:\n",
    "    total_files += get_files_count(directory,directory)\n",
    "print(f'Total: {total_files}')"
   ]
  },
  {
   "cell_type": "code",
   "execution_count": null,
   "metadata": {},
   "outputs": [],
   "source": []
  }
 ],
 "metadata": {
  "kernelspec": {
   "display_name": "Python 3",
   "language": "python",
   "name": "python3"
  },
  "language_info": {
   "codemirror_mode": {
    "name": "ipython",
    "version": 3
   },
   "file_extension": ".py",
   "mimetype": "text/x-python",
   "name": "python",
   "nbconvert_exporter": "python",
   "pygments_lexer": "ipython3",
   "version": "3.8.5"
  }
 },
 "nbformat": 4,
 "nbformat_minor": 4
}
